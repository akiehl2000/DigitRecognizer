{
 "cells": [
  {
   "cell_type": "code",
   "execution_count": 1,
   "metadata": {},
   "outputs": [],
   "source": [
    "# Import packages\n",
    "import os\n",
    "import glob\n",
    "import shutil\n",
    "import plotnine\n",
    "\n",
    "import pandas as pd\n",
    "import numpy as np\n",
    "import tensorflow as tf\n",
    "import matplotlib.pyplot as plt\n",
    "\n",
    "from tensorflow import keras\n",
    "from tensorflow.keras import layers\n",
    "from plotnine import ggplot\n",
    "from plotnine import aes \n",
    "from plotnine import geom_line\n",
    "from plotnine import labs"
   ]
  },
  {
   "cell_type": "code",
   "execution_count": 2,
   "metadata": {},
   "outputs": [],
   "source": [
    "# Reproducibility\n",
    "np.random.seed(478)\n",
    "tf.random.set_seed(478)"
   ]
  },
  {
   "cell_type": "code",
   "execution_count": 3,
   "metadata": {},
   "outputs": [],
   "source": [
    "# Read in data from .csv files\n",
    "train = pd.read_csv('./Data/train.csv')\n",
    "test = pd.read_csv('./Data/test.csv')\n",
    "\n",
    "# Convert Pandas dataframes to valid Numpy arrays\n",
    "def convert(X):\n",
    "    data = np.empty((X.shape[0], 28, 28, 1))\n",
    "    for i in range(X.shape[0]):\n",
    "        img = np.array(X.iloc[i, :]).reshape((28, 28, 1))\n",
    "        data[i] = img\n",
    "    return(np.array(data))\n",
    "\n",
    "# Define training set\n",
    "X_train = convert(train.drop('label', axis = 1)) / 255\n",
    "y_train = train['label']\n",
    "\n",
    "# Define testing set\n",
    "X_test = convert(test) / 255"
   ]
  },
  {
   "cell_type": "code",
   "execution_count": 8,
   "metadata": {},
   "outputs": [
    {
     "name": "stdout",
     "output_type": "stream",
     "text": [
      "Model: \"sequential_2\"\n",
      "_________________________________________________________________\n",
      "Layer (type)                 Output Shape              Param #   \n",
      "=================================================================\n",
      "conv2d_4 (Conv2D)            (None, 26, 26, 32)        320       \n",
      "_________________________________________________________________\n",
      "max_pooling2d_2 (MaxPooling2 (None, 8, 8, 32)          0         \n",
      "_________________________________________________________________\n",
      "conv2d_5 (Conv2D)            (None, 6, 6, 64)          18496     \n",
      "_________________________________________________________________\n",
      "max_pooling2d_3 (MaxPooling2 (None, 2, 2, 64)          0         \n",
      "_________________________________________________________________\n",
      "flatten_2 (Flatten)          (None, 256)               0         \n",
      "_________________________________________________________________\n",
      "dense_2 (Dense)              (None, 10)                2570      \n",
      "=================================================================\n",
      "Total params: 21,386\n",
      "Trainable params: 21,386\n",
      "Non-trainable params: 0\n",
      "_________________________________________________________________\n"
     ]
    }
   ],
   "source": [
    "# Define model architecture\n",
    "model = keras.Sequential([\n",
    "    layers.Conv2D(filters = 32, kernel_size = 3, activation = 'relu', input_shape = [28, 28, 1]),\n",
    "    layers.MaxPool2D(3),\n",
    "\n",
    "    layers.Conv2D(filters = 64, kernel_size = 3, activation = 'relu'),\n",
    "    layers.MaxPool2D(3),\n",
    "\n",
    "    layers.Flatten(),\n",
    "    layers.Dense(units = 10, activation = tf.nn.softmax)\n",
    "])\n",
    "\n",
    "model.summary()"
   ]
  },
  {
   "cell_type": "code",
   "execution_count": 9,
   "metadata": {},
   "outputs": [
    {
     "name": "stdout",
     "output_type": "stream",
     "text": [
      "Epoch 1/10\n",
      "985/985 [==============================] - 7s 7ms/step - loss: 0.7268 - accuracy: 0.7947 - val_loss: 0.0994 - val_accuracy: 0.9695\n",
      "Epoch 2/10\n",
      "985/985 [==============================] - 6s 6ms/step - loss: 0.0973 - accuracy: 0.9709 - val_loss: 0.0773 - val_accuracy: 0.9766\n",
      "Epoch 3/10\n",
      "985/985 [==============================] - 6s 6ms/step - loss: 0.0666 - accuracy: 0.9790 - val_loss: 0.0695 - val_accuracy: 0.9783\n",
      "Epoch 4/10\n",
      "985/985 [==============================] - 6s 6ms/step - loss: 0.0490 - accuracy: 0.9847 - val_loss: 0.0487 - val_accuracy: 0.9838\n",
      "Epoch 5/10\n",
      "985/985 [==============================] - 7s 7ms/step - loss: 0.0435 - accuracy: 0.9866 - val_loss: 0.0400 - val_accuracy: 0.9870\n",
      "Epoch 6/10\n",
      "985/985 [==============================] - 7s 7ms/step - loss: 0.0371 - accuracy: 0.9873 - val_loss: 0.0436 - val_accuracy: 0.9862\n",
      "Epoch 7/10\n",
      "985/985 [==============================] - 7s 7ms/step - loss: 0.0300 - accuracy: 0.9898 - val_loss: 0.0469 - val_accuracy: 0.9849\n",
      "Epoch 8/10\n",
      "985/985 [==============================] - 6s 6ms/step - loss: 0.0260 - accuracy: 0.9920 - val_loss: 0.0552 - val_accuracy: 0.9834\n",
      "Epoch 9/10\n",
      "985/985 [==============================] - 6s 6ms/step - loss: 0.0215 - accuracy: 0.9935 - val_loss: 0.0429 - val_accuracy: 0.9864\n",
      "Epoch 10/10\n",
      "985/985 [==============================] - 6s 6ms/step - loss: 0.0164 - accuracy: 0.9953 - val_loss: 0.0502 - val_accuracy: 0.9843\n"
     ]
    }
   ],
   "source": [
    "# Define number of training epochs\n",
    "EPOCHS = 10\n",
    "\n",
    "# Compile model\n",
    "model.compile(\n",
    "    optimizer = 'adam',\n",
    "    loss = 'sparse_categorical_crossentropy',\n",
    "    metrics = ['accuracy']\n",
    ")\n",
    "\n",
    "# Train model with 75/25 training/validation split\n",
    "trained = model.fit(\n",
    "    X_train,\n",
    "    y_train,\n",
    "    epochs = EPOCHS,\n",
    "    validation_split = .25\n",
    ")"
   ]
  },
  {
   "cell_type": "code",
   "execution_count": 10,
   "metadata": {},
   "outputs": [
    {
     "data": {
      "image/png": "[encoded data removed]",
      "text/plain": [
       "<Figure size 640x480 with 1 Axes>"
      ]
     },
     "metadata": {},
     "output_type": "display_data"
    },
    {
     "data": {
      "text/plain": [
       "<ggplot: (8761549255804)>"
      ]
     },
     "execution_count": 10,
     "metadata": {},
     "output_type": "execute_result"
    }
   ],
   "source": [
    "# Plot training and validation accuracy\n",
    "(\n",
    "    ggplot() \n",
    "    + geom_line(aes(range(EPOCHS), trained.history['accuracy']))\n",
    "    + geom_line(aes(range(EPOCHS), trained.history['val_accuracy']), color = 'red')\n",
    "    + labs(title='Training and Validation (red) Accuracy', x='Epoch', y='Accuracy')\n",
    ")"
   ]
  },
  {
   "cell_type": "code",
   "execution_count": 11,
   "metadata": {},
   "outputs": [
    {
     "data": {
      "image/png": "[encoded data removed]",
      "text/plain": [
       "<Figure size 640x480 with 1 Axes>"
      ]
     },
     "metadata": {},
     "output_type": "display_data"
    },
    {
     "data": {
      "text/plain": [
       "<ggplot: (8761574432446)>"
      ]
     },
     "execution_count": 11,
     "metadata": {},
     "output_type": "execute_result"
    }
   ],
   "source": [
    "# Plot training and validation loss\n",
    "(\n",
    "    ggplot()\n",
    "    + geom_line(aes(range(EPOCHS), trained.history['loss']))\n",
    "    + geom_line(aes(range(EPOCHS), trained.history['val_loss']), color = 'red')\n",
    "    + labs(title='Training and Validation (red) Loss', x='Epoch', y='Accuracy')\n",
    ")"
   ]
  },
  {
   "cell_type": "code",
   "execution_count": 12,
   "metadata": {},
   "outputs": [
    {
     "name": "stdout",
     "output_type": "stream",
     "text": [
      "Epoch 1/5\n",
      "1313/1313 [==============================] - 8s 6ms/step - loss: 0.0246 - accuracy: 0.9921\n",
      "Epoch 2/5\n",
      "1313/1313 [==============================] - 7s 6ms/step - loss: 0.0197 - accuracy: 0.9936\n",
      "Epoch 3/5\n",
      "1313/1313 [==============================] - 7s 6ms/step - loss: 0.0161 - accuracy: 0.9952\n",
      "Epoch 4/5\n",
      "1313/1313 [==============================] - 7s 6ms/step - loss: 0.0146 - accuracy: 0.9951\n",
      "Epoch 5/5\n",
      "1313/1313 [==============================] - 7s 6ms/step - loss: 0.0129 - accuracy: 0.9957\n"
     ]
    }
   ],
   "source": [
    "# Choose 5 epochs to avoid overfitting\n",
    "EPOCHS = 5\n",
    "\n",
    "# Retrain model on full training set\n",
    "trained_full = model.fit(\n",
    "    X_train,\n",
    "    y_train,\n",
    "    epochs = EPOCHS,\n",
    "    validation_split = 0\n",
    ")"
   ]
  },
  {
   "cell_type": "code",
   "execution_count": 13,
   "metadata": {},
   "outputs": [
    {
     "data": {
      "text/html": [
       "<div>\n",
       "<style scoped>\n",
       "    .dataframe tbody tr th:only-of-type {\n",
       "        vertical-align: middle;\n",
       "    }\n",
       "\n",
       "    .dataframe tbody tr th {\n",
       "        vertical-align: top;\n",
       "    }\n",
       "\n",
       "    .dataframe thead th {\n",
       "        text-align: right;\n",
       "    }\n",
       "</style>\n",
       "<table border=\"1\" class=\"dataframe\">\n",
       "  <thead>\n",
       "    <tr style=\"text-align: right;\">\n",
       "      <th></th>\n",
       "      <th>ImageId</th>\n",
       "      <th>Label</th>\n",
       "    </tr>\n",
       "  </thead>\n",
       "  <tbody>\n",
       "    <tr>\n",
       "      <th>0</th>\n",
       "      <td>1</td>\n",
       "      <td>2</td>\n",
       "    </tr>\n",
       "    <tr>\n",
       "      <th>1</th>\n",
       "      <td>2</td>\n",
       "      <td>0</td>\n",
       "    </tr>\n",
       "    <tr>\n",
       "      <th>2</th>\n",
       "      <td>3</td>\n",
       "      <td>9</td>\n",
       "    </tr>\n",
       "    <tr>\n",
       "      <th>3</th>\n",
       "      <td>4</td>\n",
       "      <td>9</td>\n",
       "    </tr>\n",
       "    <tr>\n",
       "      <th>4</th>\n",
       "      <td>5</td>\n",
       "      <td>3</td>\n",
       "    </tr>\n",
       "  </tbody>\n",
       "</table>\n",
       "</div>"
      ],
      "text/plain": [
       "   ImageId  Label\n",
       "0        1      2\n",
       "1        2      0\n",
       "2        3      9\n",
       "3        4      9\n",
       "4        5      3"
      ]
     },
     "execution_count": 13,
     "metadata": {},
     "output_type": "execute_result"
    }
   ],
   "source": [
    "# Generate competition preedictions based on test set\n",
    "pred = pd.DataFrame(model.predict(X_test)).idxmax(axis = 1)\n",
    "submission = pd.DataFrame({'ImageId': range(1, len(pred) + 1), 'Label': pred})\n",
    "submission.head()"
   ]
  },
  {
   "cell_type": "code",
   "execution_count": 14,
   "metadata": {},
   "outputs": [],
   "source": [
    "# Write submission results to local .csv file\n",
    "submission.to_csv('~/Desktop/submission.csv', index=False)"
   ]
  }
 ],
 "metadata": {
  "interpreter": {
   "hash": "b0fa6594d8f4cbf19f97940f81e996739fb7646882a419484c72d19e05852a7e"
  },
  "kernelspec": {
   "display_name": "Python 3.9.9 64-bit",
   "language": "python",
   "name": "python3"
  },
  "language_info": {
   "codemirror_mode": {
    "name": "ipython",
    "version": 3
   },
   "file_extension": ".py",
   "mimetype": "text/x-python",
   "name": "python",
   "nbconvert_exporter": "python",
   "pygments_lexer": "ipython3",
   "version": "3.8.8"
  },
  "orig_nbformat": 4
 },
 "nbformat": 4,
 "nbformat_minor": 2
}
