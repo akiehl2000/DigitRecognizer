{
 "cells": [
  {
   "cell_type": "code",
   "execution_count": 1,
   "metadata": {},
   "outputs": [],
   "source": [
    "# Import packages\n",
    "import os\n",
    "import glob\n",
    "import shutil\n",
    "import plotnine\n",
    "\n",
    "import pandas as pd\n",
    "import numpy as np\n",
    "import tensorflow as tf\n",
    "import matplotlib.pyplot as plt\n",
    "\n",
    "from tensorflow import keras\n",
    "from tensorflow.keras import layers\n",
    "\n",
    "from plotnine import ggplot\n",
    "from plotnine import aes \n",
    "from plotnine import geom_line\n",
    "from plotnine import labs"
   ]
  },
  {
   "cell_type": "code",
   "execution_count": 2,
   "metadata": {},
   "outputs": [],
   "source": [
    "# Reproducibility\n",
    "np.random.seed(478)\n",
    "tf.random.set_seed(478)"
   ]
  },
  {
   "cell_type": "code",
   "execution_count": 3,
   "metadata": {},
   "outputs": [],
   "source": [
    "# Read in data from .csv files\n",
    "train = pd.read_csv('./Data/train.csv')\n",
    "test = pd.read_csv('./Data/test.csv')\n",
    "\n",
    "# Convert Pandas dataframes to valid Numpy arrays\n",
    "def convert(X):\n",
    "    data = np.empty((X.shape[0], 28, 28, 1))\n",
    "    for i in range(X.shape[0]):\n",
    "        img = np.array(X.iloc[i, :]).reshape((28, 28, 1))\n",
    "        data[i] = img\n",
    "    return(np.array(data))\n",
    "\n",
    "# Define training set\n",
    "X_train = convert(train.drop('label', axis = 1)) / 255\n",
    "y_train = train['label']\n",
    "\n",
    "# Define testing set\n",
    "X_test = convert(test) / 255"
   ]
  },
  {
   "cell_type": "code",
   "execution_count": 4,
   "metadata": {},
   "outputs": [],
   "source": [
    "model = keras.Sequential([\n",
    "    layers.BatchNormalization(),\n",
    "    layers.DepthwiseConv2D(kernel_size = 3, activation = 'relu', depth_multiplier = 2, input_shape = [28, 28, 1]),\n",
    "    layers.MaxPool2D(),\n",
    "    layers.Dropout(rate = 0.3),\n",
    "    \n",
    "    layers.BatchNormalization(),\n",
    "    layers.DepthwiseConv2D(kernel_size = 3, activation = 'relu', depth_multiplier = 2),\n",
    "    layers.MaxPool2D(),\n",
    "    layers.Dropout(rate = 0.3),\n",
    "    \n",
    "    layers.Flatten(),\n",
    "    layers.Dense(units = 10, activation = tf.nn.softmax)\n",
    "])"
   ]
  },
  {
   "cell_type": "code",
   "execution_count": null,
   "metadata": {
    "scrolled": true
   },
   "outputs": [
    {
     "name": "stdout",
     "output_type": "stream",
     "text": [
      "Epoch 1/20\n",
      "985/985 [==============================] - 27s 26ms/step - loss: 1.3850 - accuracy: 0.5216 - val_loss: 0.5782 - val_accuracy: 0.8719\n",
      "Epoch 2/20\n",
      "985/985 [==============================] - 28s 28ms/step - loss: 0.7173 - accuracy: 0.7642 - val_loss: 0.3910 - val_accuracy: 0.9009\n",
      "Epoch 3/20\n",
      "985/985 [==============================] - 26s 27ms/step - loss: 0.6235 - accuracy: 0.7968 - val_loss: 0.3615 - val_accuracy: 0.9114\n",
      "Epoch 4/20\n",
      "985/985 [==============================] - 27s 27ms/step - loss: 0.5910 - accuracy: 0.8075 - val_loss: 0.4993 - val_accuracy: 0.8980\n",
      "Epoch 5/20\n",
      "985/985 [==============================] - 26s 27ms/step - loss: 0.5818 - accuracy: 0.8095 - val_loss: 0.3868 - val_accuracy: 0.9118\n",
      "Epoch 6/20\n",
      "985/985 [==============================] - 26s 26ms/step - loss: 0.5708 - accuracy: 0.8149 - val_loss: 0.4465 - val_accuracy: 0.8919\n",
      "Epoch 7/20\n",
      "985/985 [==============================] - 27s 27ms/step - loss: 0.5610 - accuracy: 0.8177 - val_loss: 0.3733 - val_accuracy: 0.9068\n",
      "Epoch 8/20\n",
      "985/985 [==============================] - 27s 27ms/step - loss: 0.5598 - accuracy: 0.8177 - val_loss: 0.4364 - val_accuracy: 0.9001\n",
      "Epoch 9/20\n",
      "985/985 [==============================] - 29s 29ms/step - loss: 0.5522 - accuracy: 0.8206 - val_loss: 0.4005 - val_accuracy: 0.9084\n",
      "Epoch 10/20\n",
      "985/985 [==============================] - 28s 28ms/step - loss: 0.5454 - accuracy: 0.8221 - val_loss: 0.4529 - val_accuracy: 0.9007\n",
      "Epoch 11/20\n",
      "985/985 [==============================] - 28s 29ms/step - loss: 0.5441 - accuracy: 0.8231 - val_loss: 0.3893 - val_accuracy: 0.9164\n",
      "Epoch 12/20\n",
      "985/985 [==============================] - 27s 27ms/step - loss: 0.5394 - accuracy: 0.8264 - val_loss: 0.3857 - val_accuracy: 0.9062\n",
      "Epoch 13/20\n",
      "757/985 [======================>.......] - ETA: 6s - loss: 0.5392 - accuracy: 0.8258"
     ]
    }
   ],
   "source": [
    "from tensorflow.keras.callbacks import EarlyStopping\n",
    "\n",
    "early_stopping = EarlyStopping(\n",
    "    min_delta=0.001, # minimium amount of change to count as an improvement\n",
    "    patience=10, # how many epochs to wait before stopping\n",
    "    restore_best_weights=True,\n",
    ")\n",
    "\n",
    "# Compile model\n",
    "model.compile(\n",
    "    optimizer = 'adam',\n",
    "    loss = 'sparse_categorical_crossentropy',\n",
    "    metrics = ['accuracy']\n",
    ")\n",
    "\n",
    "# Train model with 75/25 training/validation split\n",
    "trained = model.fit(\n",
    "    X_train,\n",
    "    y_train,\n",
    "    epochs = 20,\n",
    "    validation_split = .25,\n",
    "    callbacks = [early_stopping]#,\n",
    "    #verbose = 0\n",
    ")\n",
    "\n",
    "pd.DataFrame(trained.history)"
   ]
  },
  {
   "cell_type": "code",
   "execution_count": null,
   "metadata": {},
   "outputs": [],
   "source": [
    "# Generate competition preedictions based on test set\n",
    "pred = pd.DataFrame(model.predict(X_test)).idxmax(axis = 1)\n",
    "pred.index += 1\n",
    "pred.head()\n",
    "#pred.to_csv(\"C:\\\\Users\\\\Logan\\\\Desktop\\\\CSU\\\\Senior 2\\\\DSCI 478\\\\predictions.csv\")"
   ]
  }
 ],
 "metadata": {
  "kernelspec": {
   "display_name": "Python 3 (ipykernel)",
   "language": "python",
   "name": "python3"
  },
  "language_info": {
   "codemirror_mode": {
    "name": "ipython",
    "version": 3
   },
   "file_extension": ".py",
   "mimetype": "text/x-python",
   "name": "python",
   "nbconvert_exporter": "python",
   "pygments_lexer": "ipython3",
   "version": "3.9.7"
  }
 },
 "nbformat": 4,
 "nbformat_minor": 2
}
