{
 "cells": [
  {
   "cell_type": "markdown",
   "metadata": {},
   "source": [
    "# Digit Recognizer\n",
    "\n",
    "Created by Zach Brazil, Richard Charles, Adam Kiehl, Zane Perkins"
   ]
  },
  {
   "cell_type": "markdown",
   "metadata": {},
   "source": [
    "## Setup"
   ]
  },
  {
   "cell_type": "code",
   "execution_count": null,
   "metadata": {},
   "outputs": [],
   "source": [
    "# Import packages\n",
    "import os\n",
    "import glob\n",
    "import shutil\n",
    "import plotnine\n",
    "\n",
    "import pandas as pd\n",
    "import numpy as np\n",
    "import tensorflow as tf\n",
    "import matplotlib.pyplot as plt\n",
    "\n",
    "from tensorflow import keras\n",
    "from tensorflow.keras import layers\n",
    "from keras.models import Sequential\n",
    "from keras.layers import Conv2D, Dense , MaxPool2D , Lambda, Flatten, Dropout, DepthwiseConv2D\n",
    "\n",
    "from plotnine import ggplot\n",
    "from plotnine import aes \n",
    "from plotnine import geom_line\n",
    "from plotnine import labs"
   ]
  },
  {
   "cell_type": "code",
   "execution_count": null,
   "metadata": {},
   "outputs": [],
   "source": [
    "# Reproducibility\n",
    "np.random.seed(478)\n",
    "tf.random.set_seed(478)"
   ]
  },
  {
   "cell_type": "code",
   "execution_count": null,
   "metadata": {},
   "outputs": [],
   "source": [
    "# Read in data from .csv files\n",
    "train = pd.read_csv('./Data/train.csv')\n",
    "test = pd.read_csv('./Data/test.csv')\n",
    "\n",
    "# Convert Pandas dataframes to valid Numpy arrays\n",
    "def convert(X):\n",
    "    data = np.empty((X.shape[0], 28, 28, 1))\n",
    "    for i in range(X.shape[0]):\n",
    "        img = np.array(X.iloc[i, :]).reshape((28, 28, 1))\n",
    "        data[i] = img\n",
    "    return(np.array(data))\n",
    "\n",
    "# Define training set\n",
    "X_train = convert(train.drop('label', axis = 1))\n",
    "y_train = train['label']\n",
    "\n",
    "# Define testing set\n",
    "X_test = convert(test)"
   ]
  },
  {
   "cell_type": "code",
   "execution_count": null,
   "metadata": {},
   "outputs": [],
   "source": [
    "# Plot example digit images\n",
    "for i in range(5):\n",
    "    plt.imshow(X_train[i]) \n",
    "    plt.title(f\"Digit: {y_train[i]}\")\n",
    "    plt.show() "
   ]
  },
  {
   "cell_type": "code",
   "execution_count": null,
   "metadata": {},
   "outputs": [],
   "source": [
    "# Standardization function\n",
    "mean_px = X_train.mean().astype(np.float32)\n",
    "std_px = X_train.std().astype(np.float32)\n",
    "\n",
    "def standardize(x):\n",
    "    return (x - mean_px) / std_px"
   ]
  },
  {
   "cell_type": "markdown",
   "metadata": {},
   "source": [
    "## Modeling"
   ]
  },
  {
   "cell_type": "code",
   "execution_count": null,
   "metadata": {},
   "outputs": [],
   "source": [
    "# Define model architecture\n",
    "model = Sequential([\n",
    "    Lambda(standardize, input_shape = (28, 28, 1)),\n",
    "    MaxPool2D(3),\n",
    "\n",
    "    Conv2D(filters = 32, kernel_size = 3, activation = 'relu'),\n",
    "    MaxPool2D(3),\n",
    "\n",
    "    DepthwiseConv2D(kernel_size = 3, depth_multiplier = 4, activation = 'relu'),\n",
    "    MaxPool2D(3),\n",
    "\n",
    "    Flatten(),\n",
    "    Dense(512, activation = 'relu'),\n",
    "    Dropout(.3),\n",
    "    Dense(10, activation = 'softmax')\n",
    "])\n",
    "\n",
    "model.summary()"
   ]
  },
  {
   "cell_type": "code",
   "execution_count": null,
   "metadata": {},
   "outputs": [],
   "source": [
    "# Define number of training epochs\n",
    "EPOCHS = 10\n",
    "\n",
    "# Compile model\n",
    "model.compile(\n",
    "    optimizer = 'adam',\n",
    "    loss = 'sparse_categorical_crossentropy',\n",
    "    metrics = ['accuracy']\n",
    ")\n",
    "\n",
    "# Train model with 75/25 training/validation split\n",
    "trained = model.fit(\n",
    "    X_train,\n",
    "    y_train,\n",
    "    epochs = EPOCHS,\n",
    "    validation_split = .25\n",
    ")"
   ]
  },
  {
   "cell_type": "code",
   "execution_count": null,
   "metadata": {},
   "outputs": [],
   "source": [
    "# Plot training and validation accuracy\n",
    "(\n",
    "    ggplot() \n",
    "    + geom_line(aes(range(EPOCHS), trained.history['accuracy']))\n",
    "    + geom_line(aes(range(EPOCHS), trained.history['val_accuracy']), color = 'red')\n",
    "    + labs(title='Training and Validation (red) Accuracy', x='Epoch', y='Accuracy')\n",
    ")"
   ]
  },
  {
   "cell_type": "markdown",
   "metadata": {},
   "source": [
    "## Prediction"
   ]
  },
  {
   "cell_type": "code",
   "execution_count": null,
   "metadata": {},
   "outputs": [],
   "source": [
    "# Choose 5 epochs to avoid overfitting\n",
    "EPOCHS = 5\n",
    "\n",
    "# Retrain model on full training set\n",
    "trained_full = model.fit(\n",
    "    X_train,\n",
    "    y_train,\n",
    "    epochs = EPOCHS,\n",
    "    validation_split = 0\n",
    ")"
   ]
  },
  {
   "cell_type": "code",
   "execution_count": null,
   "metadata": {},
   "outputs": [],
   "source": [
    "# Generate competition preedictions based on test set\n",
    "pred = pd.DataFrame(model.predict(X_test)).idxmax(axis = 1)\n",
    "submission = pd.DataFrame({'ImageId': range(1, len(pred) + 1), 'Label': pred})\n",
    "submission.head()\n",
    "\n",
    "# Write submission results to local .csv file\n",
    "submission.to_csv('~/Desktop/submission.csv', index=False)"
   ]
  }
 ],
 "metadata": {
  "language_info": {
   "name": "python"
  },
  "orig_nbformat": 4
 },
 "nbformat": 4,
 "nbformat_minor": 2
}
