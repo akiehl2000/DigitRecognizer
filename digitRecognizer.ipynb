{
 "cells": [
  {
   "cell_type": "markdown",
   "metadata": {},
   "source": [
    "# Digit Recognizer\n",
    "\n",
    "Created by Zach Brazil, Richard Charles, Adam Kiehl, Zane Perkins"
   ]
  },
  {
   "cell_type": "markdown",
   "metadata": {},
   "source": [
    "### Setup"
   ]
  },
  {
   "cell_type": "code",
   "execution_count": 38,
   "metadata": {},
   "outputs": [],
   "source": [
    "# Import packages\n",
    "import os\n",
    "import glob\n",
    "import shutil\n",
    "import plotnine\n",
    "\n",
    "import pandas as pd\n",
    "import numpy as np\n",
    "import tensorflow as tf\n",
    "import matplotlib.pyplot as plt\n",
    "\n",
    "from tensorflow import keras\n",
    "from tensorflow.keras import layers\n",
    "\n",
    "from plotnine import ggplot\n",
    "from plotnine import aes \n",
    "from plotnine import geom_line\n",
    "from plotnine import labs"
   ]
  },
  {
   "cell_type": "code",
   "execution_count": 39,
   "metadata": {},
   "outputs": [],
   "source": [
    "# Reproducibility\n",
    "np.random.seed(478)\n",
    "tf.random.set_seed(478)"
   ]
  },
  {
   "cell_type": "code",
   "execution_count": 40,
   "metadata": {},
   "outputs": [],
   "source": [
    "# Read in data from .csv files\n",
    "train = pd.read_csv('./Data/train.csv')\n",
    "test = pd.read_csv('./Data/test.csv')\n",
    "\n",
    "# Convert Pandas dataframes to valid Numpy arrays\n",
    "def convert(X):\n",
    "    data = np.empty((X.shape[0], 28, 28, 1))\n",
    "    for i in range(X.shape[0]):\n",
    "        img = np.array(X.iloc[i, :]).reshape((28, 28, 1))\n",
    "        data[i] = img\n",
    "    return(np.array(data))\n",
    "\n",
    "# Define training set\n",
    "X_train = convert(train.drop('label', axis = 1))\n",
    "y_train = train['label']\n",
    "\n",
    "# Define testing set\n",
    "X_test = convert(test)"
   ]
  },
  {
   "cell_type": "code",
   "execution_count": 41,
   "metadata": {},
   "outputs": [
    {
     "data": {
      "image/png": "[encoded data removed]",
      "text/plain": [
       "<Figure size 432x288 with 1 Axes>"
      ]
     },
     "metadata": {
      "needs_background": "light"
     },
     "output_type": "display_data"
    },
    {
     "data": {
      "image/png": "[encoded data removed]",
      "text/plain": [
       "<Figure size 432x288 with 1 Axes>"
      ]
     },
     "metadata": {
      "needs_background": "light"
     },
     "output_type": "display_data"
    },
    {
     "data": {
      "image/png": "[encoded data removed]",
      "text/plain": [
       "<Figure size 432x288 with 1 Axes>"
      ]
     },
     "metadata": {
      "needs_background": "light"
     },
     "output_type": "display_data"
    },
    {
     "data": {
      "image/png": "[encoded data removed]",
      "text/plain": [
       "<Figure size 432x288 with 1 Axes>"
      ]
     },
     "metadata": {
      "needs_background": "light"
     },
     "output_type": "display_data"
    },
    {
     "data": {
      "image/png": "[encoded data removed]",
      "text/plain": [
       "<Figure size 432x288 with 1 Axes>"
      ]
     },
     "metadata": {
      "needs_background": "light"
     },
     "output_type": "display_data"
    }
   ],
   "source": [
    "# Plot example digit images\n",
    "for i in range(5):\n",
    "    plt.imshow(X_train[i]) \n",
    "    plt.title(f\"Digit: {y_train[i]}\")\n",
    "    plt.show() "
   ]
  },
  {
   "cell_type": "code",
   "execution_count": 42,
   "metadata": {},
   "outputs": [],
   "source": [
    "# Standardization function\n",
    "mean_px = X_train.mean().astype(np.float32)\n",
    "std_px = X_train.std().astype(np.float32)\n",
    "\n",
    "def standardize(x):\n",
    "    return (x - mean_px) / std_px"
   ]
  },
  {
   "cell_type": "markdown",
   "metadata": {},
   "source": [
    "### Modeling"
   ]
  },
  {
   "cell_type": "code",
   "execution_count": 43,
   "metadata": {},
   "outputs": [
    {
     "name": "stdout",
     "output_type": "stream",
     "text": [
      "Model: \"sequential_13\"\n",
      "_________________________________________________________________\n",
      "Layer (type)                 Output Shape              Param #   \n",
      "=================================================================\n",
      "lambda_13 (Lambda)           (None, 28, 28, 1)         0         \n",
      "_________________________________________________________________\n",
      "max_pooling2d_29 (MaxPooling (None, 9, 9, 1)           0         \n",
      "_________________________________________________________________\n",
      "conv2d_19 (Conv2D)           (None, 7, 7, 32)          320       \n",
      "_________________________________________________________________\n",
      "conv2d_20 (Conv2D)           (None, 5, 5, 64)          18496     \n",
      "_________________________________________________________________\n",
      "depthwise_conv2d_12 (Depthwi (None, 3, 3, 256)         2560      \n",
      "_________________________________________________________________\n",
      "max_pooling2d_30 (MaxPooling (None, 1, 1, 256)         0         \n",
      "_________________________________________________________________\n",
      "flatten_13 (Flatten)         (None, 256)               0         \n",
      "_________________________________________________________________\n",
      "dense_25 (Dense)             (None, 128)               32896     \n",
      "_________________________________________________________________\n",
      "dropout_12 (Dropout)         (None, 128)               0         \n",
      "_________________________________________________________________\n",
      "dense_26 (Dense)             (None, 10)                1290      \n",
      "=================================================================\n",
      "Total params: 55,562\n",
      "Trainable params: 55,562\n",
      "Non-trainable params: 0\n",
      "_________________________________________________________________\n"
     ]
    }
   ],
   "source": [
    "# Define model architecture\n",
    "model = keras.Sequential([\n",
    "    layers.Lambda(standardize, input_shape = (28, 28, 1)),\n",
    "    layers.MaxPool2D(3),\n",
    "\n",
    "    layers.Conv2D(filters = 32, kernel_size = 3, activation = 'relu'),\n",
    "\n",
    "    layers.Conv2D(filters = 64, kernel_size = 3, activation = 'relu'),\n",
    "\n",
    "    layers.DepthwiseConv2D(kernel_size = 3, depth_multiplier = 4, activation = 'relu'),\n",
    "    layers.MaxPool2D(3),\n",
    "\n",
    "    layers.Flatten(),\n",
    "    layers.Dense(128, activation = 'relu'),\n",
    "    layers.Dropout(.1),\n",
    "    layers.Dense(10, activation = 'softmax')\n",
    "])\n",
    "\n",
    "model.summary()\n",
    "\n",
    "# Compile model\n",
    "model.compile(\n",
    "    optimizer = 'adam',\n",
    "    loss = 'sparse_categorical_crossentropy',\n",
    "    metrics = ['accuracy']\n",
    ")"
   ]
  },
  {
   "cell_type": "code",
   "execution_count": 44,
   "metadata": {},
   "outputs": [
    {
     "name": "stdout",
     "output_type": "stream",
     "text": [
      "Epoch 1/10\n",
      "985/985 [==============================] - 5s 5ms/step - loss: 0.8654 - accuracy: 0.7190 - val_loss: 0.2144 - val_accuracy: 0.9322\n",
      "Epoch 2/10\n",
      "985/985 [==============================] - 4s 4ms/step - loss: 0.2173 - accuracy: 0.9296 - val_loss: 0.1978 - val_accuracy: 0.9370\n",
      "Epoch 3/10\n",
      "985/985 [==============================] - 4s 5ms/step - loss: 0.1761 - accuracy: 0.9437 - val_loss: 0.1614 - val_accuracy: 0.9507\n",
      "Epoch 4/10\n",
      "985/985 [==============================] - 5s 5ms/step - loss: 0.1403 - accuracy: 0.9539 - val_loss: 0.1540 - val_accuracy: 0.9490\n",
      "Epoch 5/10\n",
      "985/985 [==============================] - 4s 4ms/step - loss: 0.1275 - accuracy: 0.9574 - val_loss: 0.1296 - val_accuracy: 0.9586\n",
      "Epoch 6/10\n",
      "985/985 [==============================] - 4s 4ms/step - loss: 0.1158 - accuracy: 0.9634 - val_loss: 0.1242 - val_accuracy: 0.9613\n",
      "Epoch 7/10\n",
      "985/985 [==============================] - 4s 4ms/step - loss: 0.0983 - accuracy: 0.9674 - val_loss: 0.1214 - val_accuracy: 0.9619\n",
      "Epoch 8/10\n",
      "985/985 [==============================] - 4s 4ms/step - loss: 0.0938 - accuracy: 0.9700 - val_loss: 0.1331 - val_accuracy: 0.9613\n",
      "Epoch 9/10\n",
      "985/985 [==============================] - 4s 4ms/step - loss: 0.0938 - accuracy: 0.9693 - val_loss: 0.1219 - val_accuracy: 0.9617\n",
      "Epoch 10/10\n",
      "985/985 [==============================] - 4s 5ms/step - loss: 0.0833 - accuracy: 0.9726 - val_loss: 0.1369 - val_accuracy: 0.9596\n"
     ]
    }
   ],
   "source": [
    "# Define number of training epochs\n",
    "EPOCHS = 10\n",
    "\n",
    "# Train model with 75/25 training/validation split\n",
    "trained = model.fit(\n",
    "    X_train,\n",
    "    y_train,\n",
    "    epochs = EPOCHS,\n",
    "    validation_split = .25\n",
    ")"
   ]
  },
  {
   "cell_type": "code",
   "execution_count": 45,
   "metadata": {},
   "outputs": [
    {
     "data": {
      "image/png": "[encoded data removed]",
      "text/plain": [
       "<Figure size 640x480 with 1 Axes>"
      ]
     },
     "metadata": {},
     "output_type": "display_data"
    },
    {
     "data": {
      "text/plain": [
       "<ggplot: (8775348125335)>"
      ]
     },
     "execution_count": 45,
     "metadata": {},
     "output_type": "execute_result"
    }
   ],
   "source": [
    "# Plot training and validation accuracy\n",
    "(\n",
    "    ggplot() \n",
    "    + geom_line(aes(range(EPOCHS), trained.history['accuracy']))\n",
    "    + geom_line(aes(range(EPOCHS), trained.history['val_accuracy']), color = 'red')\n",
    "    + labs(title='Training and Validation (red) Accuracy', x='Epoch', y='Accuracy')\n",
    ")"
   ]
  },
  {
   "cell_type": "markdown",
   "metadata": {},
   "source": [
    "### Prediction"
   ]
  },
  {
   "cell_type": "code",
   "execution_count": 46,
   "metadata": {},
   "outputs": [
    {
     "name": "stdout",
     "output_type": "stream",
     "text": [
      "Epoch 1/5\n",
      "1313/1313 [==============================] - 5s 4ms/step - loss: 0.0996 - accuracy: 0.9684\n",
      "Epoch 2/5\n",
      "1313/1313 [==============================] - 5s 4ms/step - loss: 0.0893 - accuracy: 0.9699\n",
      "Epoch 3/5\n",
      "1313/1313 [==============================] - 5s 3ms/step - loss: 0.0842 - accuracy: 0.9719\n",
      "Epoch 4/5\n",
      "1313/1313 [==============================] - 5s 3ms/step - loss: 0.0792 - accuracy: 0.9733\n",
      "Epoch 5/5\n",
      "1313/1313 [==============================] - 5s 3ms/step - loss: 0.0763 - accuracy: 0.9742\n"
     ]
    }
   ],
   "source": [
    "# Choose 5 epochs to avoid overfitting\n",
    "EPOCHS = 5\n",
    "\n",
    "# Retrain model on full training set\n",
    "trained_full = model.fit(\n",
    "    X_train,\n",
    "    y_train,\n",
    "    epochs = EPOCHS,\n",
    "    validation_split = 0\n",
    ")"
   ]
  },
  {
   "cell_type": "code",
   "execution_count": 47,
   "metadata": {},
   "outputs": [],
   "source": [
    "# Generate competition preedictions based on test set\n",
    "pred = pd.DataFrame(model.predict(X_test)).idxmax(axis = 1)\n",
    "submission = pd.DataFrame({'ImageId': range(1, len(pred) + 1), 'Label': pred})\n",
    "submission.head()\n",
    "\n",
    "# Write submission results to local .csv file\n",
    "submission.to_csv('./Data/submission.csv', index=False)"
   ]
  }
 ],
 "metadata": {
  "interpreter": {
   "hash": "0bbb39c32dcb289b310faef5e76dd13d205edd33082c780ed56e1f88a3655d40"
  },
  "kernelspec": {
   "display_name": "Python 3.8.8 ('base')",
   "language": "python",
   "name": "python3"
  },
  "language_info": {
   "codemirror_mode": {
    "name": "ipython",
    "version": 3
   },
   "file_extension": ".py",
   "mimetype": "text/x-python",
   "name": "python",
   "nbconvert_exporter": "python",
   "pygments_lexer": "ipython3",
   "version": "3.8.8"
  },
  "orig_nbformat": 4
 },
 "nbformat": 4,
 "nbformat_minor": 2
}
