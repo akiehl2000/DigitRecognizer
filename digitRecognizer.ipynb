{
 "cells": [
  {
   "cell_type": "code",
   "execution_count": 1,
   "metadata": {},
   "outputs": [],
   "source": [
    "# Import packages\n",
    "import os\n",
    "import glob\n",
    "import shutil\n",
    "import plotnine\n",
    "\n",
    "import pandas as pd\n",
    "import numpy as np\n",
    "import tensorflow as tf\n",
    "import matplotlib.pyplot as plt\n",
    "\n",
    "from tensorflow import keras\n",
    "from tensorflow.keras import layers\n",
    "\n",
    "from plotnine import ggplot\n",
    "from plotnine import aes \n",
    "from plotnine import geom_line\n",
    "from plotnine import labs"
   ]
  },
  {
   "cell_type": "code",
   "execution_count": 2,
   "metadata": {},
   "outputs": [],
   "source": [
    "# Reproducibility\n",
    "np.random.seed(478)\n",
    "tf.random.set_seed(478)"
   ]
  },
  {
   "cell_type": "code",
   "execution_count": 3,
   "metadata": {},
   "outputs": [],
   "source": [
    "# Read in data from .csv files\n",
    "train = pd.read_csv('./Data/train.csv')\n",
    "test = pd.read_csv('./Data/test.csv')\n",
    "\n",
    "# Convert Pandas dataframes to valid Numpy arrays\n",
    "def convert(X):\n",
    "    data = np.empty((X.shape[0], 28, 28, 1))\n",
    "    for i in range(X.shape[0]):\n",
    "        img = np.array(X.iloc[i, :]).reshape((28, 28, 1))\n",
    "        data[i] = img\n",
    "    return(np.array(data))\n",
    "\n",
    "# Define training set\n",
    "X_train = convert(train.drop('label', axis = 1)) / 255\n",
    "y_train = train['label']\n",
    "\n",
    "# Define testing set\n",
    "X_test = convert(test) / 255"
   ]
  },
  {
   "cell_type": "code",
   "execution_count": 9,
   "metadata": {},
   "outputs": [],
   "source": [
    "model = keras.Sequential([\n",
    "    layers.BatchNormalization(),\n",
    "    layers.DepthwiseConv2D(kernel_size = 3, activation = 'relu', depth_multiplier = 4, input_shape = [28, 28, 1]),\n",
    "    layers.MaxPool2D(),\n",
    "    layers.Dropout(rate = 0.3),\n",
    "    \n",
    "    layers.BatchNormalization(),\n",
    "    layers.DepthwiseConv2D(kernel_size = 3, activation = 'relu', depth_multiplier = 4),\n",
    "    layers.MaxPool2D(),\n",
    "    layers.Dropout(rate = 0.3),\n",
    "    \n",
    "    layers.Flatten(),\n",
    "    layers.Dense(units = 10, activation = tf.nn.softmax)\n",
    "])"
   ]
  },
  {
   "cell_type": "code",
   "execution_count": 10,
   "metadata": {
    "scrolled": true
   },
   "outputs": [
    {
     "name": "stdout",
     "output_type": "stream",
     "text": [
      "Epoch 1/20\n",
      "985/985 [==============================] - 49s 49ms/step - loss: 0.5980 - accuracy: 0.8048 - val_loss: 0.1571 - val_accuracy: 0.9570\n",
      "Epoch 2/20\n",
      "985/985 [==============================] - 47s 48ms/step - loss: 0.2366 - accuracy: 0.9255 - val_loss: 0.1154 - val_accuracy: 0.9683\n",
      "Epoch 3/20\n",
      "985/985 [==============================] - 48s 49ms/step - loss: 0.2006 - accuracy: 0.9372 - val_loss: 0.1000 - val_accuracy: 0.9710\n",
      "Epoch 4/20\n",
      "985/985 [==============================] - 46s 47ms/step - loss: 0.1798 - accuracy: 0.9441 - val_loss: 0.1004 - val_accuracy: 0.9713\n",
      "Epoch 5/20\n",
      "985/985 [==============================] - 47s 48ms/step - loss: 0.1665 - accuracy: 0.9473 - val_loss: 0.0854 - val_accuracy: 0.9761\n",
      "Epoch 6/20\n",
      "985/985 [==============================] - 47s 48ms/step - loss: 0.1641 - accuracy: 0.9471 - val_loss: 0.0895 - val_accuracy: 0.9761\n",
      "Epoch 7/20\n",
      "985/985 [==============================] - 47s 48ms/step - loss: 0.1599 - accuracy: 0.9493 - val_loss: 0.0846 - val_accuracy: 0.9769\n",
      "Epoch 8/20\n",
      "985/985 [==============================] - 47s 48ms/step - loss: 0.1551 - accuracy: 0.9511 - val_loss: 0.0821 - val_accuracy: 0.9773\n",
      "Epoch 9/20\n",
      "985/985 [==============================] - 47s 48ms/step - loss: 0.1527 - accuracy: 0.9516 - val_loss: 0.0988 - val_accuracy: 0.9710\n",
      "Epoch 10/20\n",
      "985/985 [==============================] - 48s 49ms/step - loss: 0.1538 - accuracy: 0.9507 - val_loss: 0.0896 - val_accuracy: 0.9763\n",
      "Epoch 11/20\n",
      "985/985 [==============================] - 43s 44ms/step - loss: 0.1517 - accuracy: 0.9531 - val_loss: 0.0881 - val_accuracy: 0.9770\n",
      "Epoch 12/20\n",
      "985/985 [==============================] - 36s 36ms/step - loss: 0.1489 - accuracy: 0.9522 - val_loss: 0.0845 - val_accuracy: 0.9772\n",
      "Epoch 13/20\n",
      "985/985 [==============================] - 54s 55ms/step - loss: 0.1491 - accuracy: 0.9531 - val_loss: 0.0935 - val_accuracy: 0.9735\n",
      "Epoch 14/20\n",
      "985/985 [==============================] - 37s 37ms/step - loss: 0.1469 - accuracy: 0.9537 - val_loss: 0.0829 - val_accuracy: 0.9766\n",
      "Epoch 15/20\n",
      "985/985 [==============================] - 38s 39ms/step - loss: 0.1457 - accuracy: 0.9543 - val_loss: 0.0887 - val_accuracy: 0.9751\n",
      "Epoch 16/20\n",
      "985/985 [==============================] - 21s 22ms/step - loss: 0.1463 - accuracy: 0.9542 - val_loss: 0.0823 - val_accuracy: 0.9790\n",
      "Epoch 17/20\n",
      "985/985 [==============================] - 23s 23ms/step - loss: 0.1429 - accuracy: 0.9551 - val_loss: 0.1017 - val_accuracy: 0.9723\n",
      "Epoch 18/20\n",
      "985/985 [==============================] - 19s 19ms/step - loss: 0.1417 - accuracy: 0.9558 - val_loss: 0.0868 - val_accuracy: 0.9758\n"
     ]
    }
   ],
   "source": [
    "from tensorflow.keras.callbacks import EarlyStopping\n",
    "\n",
    "early_stopping = EarlyStopping(\n",
    "    min_delta=0.001, # minimium amount of change to count as an improvement\n",
    "    patience=10, # how many epochs to wait before stopping\n",
    "    restore_best_weights=True,\n",
    ")\n",
    "\n",
    "# Compile model\n",
    "model.compile(\n",
    "    optimizer = 'adam',\n",
    "    loss = 'sparse_categorical_crossentropy',\n",
    "    metrics = ['accuracy']\n",
    ")\n",
    "\n",
    "# Train model with 75/25 training/validation split\n",
    "trained = model.fit(\n",
    "    X_train,\n",
    "    y_train,\n",
    "    epochs = 20,\n",
    "    validation_split = .25,\n",
    "    callbacks = [early_stopping]\n",
    ")"
   ]
  },
  {
   "cell_type": "code",
   "execution_count": 11,
   "metadata": {},
   "outputs": [],
   "source": [
    "# Generate competition preedictions based on test set\n",
    "pred = pd.DataFrame(model.predict(X_test)).idxmax(axis = 1)"
   ]
  }
 ],
 "metadata": {
  "kernelspec": {
   "display_name": "Python 3 (ipykernel)",
   "language": "python",
   "name": "python3"
  },
  "language_info": {
   "codemirror_mode": {
    "name": "ipython",
    "version": 3
   },
   "file_extension": ".py",
   "mimetype": "text/x-python",
   "name": "python",
   "nbconvert_exporter": "python",
   "pygments_lexer": "ipython3",
   "version": "3.9.7"
  }
 },
 "nbformat": 4,
 "nbformat_minor": 2
}
