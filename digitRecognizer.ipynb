{
 "cells": [
  {
   "cell_type": "markdown",
   "metadata": {},
   "source": [
    "# Digit Recognizer\n",
    "\n",
    "Created by Zach Brazil, Richard Charles, Adam Kiehl, Zane Perkins"
   ]
  },
  {
   "cell_type": "markdown",
   "metadata": {},
   "source": [
    "### Setup"
   ]
  },
  {
   "cell_type": "code",
   "execution_count": 48,
   "metadata": {},
   "outputs": [],
   "source": [
    "# Import packages\n",
    "import os\n",
    "import glob\n",
    "import shutil\n",
    "import plotnine\n",
    "\n",
    "import pandas as pd\n",
    "import numpy as np\n",
    "import tensorflow as tf\n",
    "import matplotlib.pyplot as plt\n",
    "\n",
    "from tensorflow import keras\n",
    "from tensorflow.keras import layers\n",
    "\n",
    "from plotnine import ggplot\n",
    "from plotnine import aes \n",
    "from plotnine import geom_line\n",
    "from plotnine import labs"
   ]
  },
  {
   "cell_type": "code",
   "execution_count": 49,
   "metadata": {},
   "outputs": [],
   "source": [
    "# Reproducibility\n",
    "np.random.seed(478)\n",
    "tf.random.set_seed(478)"
   ]
  },
  {
   "cell_type": "code",
   "execution_count": 50,
   "metadata": {},
   "outputs": [],
   "source": [
    "# Read in data from .csv files\n",
    "train = pd.read_csv('./Data/train.csv')\n",
    "test = pd.read_csv('./Data/test.csv')\n",
    "\n",
    "# Convert Pandas dataframes to valid Numpy arrays\n",
    "def convert(X):\n",
    "    data = np.empty((X.shape[0], 28, 28, 1))\n",
    "    for i in range(X.shape[0]):\n",
    "        img = np.array(X.iloc[i, :]).reshape((28, 28, 1))\n",
    "        data[i] = img\n",
    "    return(np.array(data))\n",
    "\n",
    "# Define training set\n",
    "X_train = convert(train.drop('label', axis = 1)) / 255\n",
    "y_train = train['label']\n",
    "\n",
    "# Define testing set\n",
    "X_test = convert(test) / 255"
   ]
  },
  {
   "cell_type": "code",
   "execution_count": 51,
   "metadata": {},
   "outputs": [
    {
     "data": {
      "image/png": "[encoded data removed]",
      "text/plain": [
       "<Figure size 432x288 with 1 Axes>"
      ]
     },
     "metadata": {
      "needs_background": "light"
     },
     "output_type": "display_data"
    },
    {
     "data": {
      "image/png": "[encoded data removed]",
      "text/plain": [
       "<Figure size 432x288 with 1 Axes>"
      ]
     },
     "metadata": {
      "needs_background": "light"
     },
     "output_type": "display_data"
    },
    {
     "data": {
      "image/png": "[encoded data removed]",
      "text/plain": [
       "<Figure size 432x288 with 1 Axes>"
      ]
     },
     "metadata": {
      "needs_background": "light"
     },
     "output_type": "display_data"
    },
    {
     "data": {
      "image/png": "[encoded data removed]",
      "text/plain": [
       "<Figure size 432x288 with 1 Axes>"
      ]
     },
     "metadata": {
      "needs_background": "light"
     },
     "output_type": "display_data"
    },
    {
     "data": {
      "image/png": "[encoded data removed]",
      "text/plain": [
       "<Figure size 432x288 with 1 Axes>"
      ]
     },
     "metadata": {
      "needs_background": "light"
     },
     "output_type": "display_data"
    }
   ],
   "source": [
    "# Plot example digit images\n",
    "for i in range(5):\n",
    "    plt.imshow(X_train[i]) \n",
    "    plt.title(f\"Digit: {y_train[i]}\")\n",
    "    plt.show() "
   ]
  },
  {
   "cell_type": "markdown",
   "metadata": {},
   "source": [
    "### Modeling"
   ]
  },
  {
   "cell_type": "code",
   "execution_count": 60,
   "metadata": {},
   "outputs": [
    {
     "name": "stdout",
     "output_type": "stream",
     "text": [
      "Model: \"sequential_17\"\n",
      "_________________________________________________________________\n",
      "Layer (type)                 Output Shape              Param #   \n",
      "=================================================================\n",
      "conv2d_27 (Conv2D)           (None, 26, 26, 32)        320       \n",
      "_________________________________________________________________\n",
      "max_pooling2d_37 (MaxPooling (None, 8, 8, 32)          0         \n",
      "_________________________________________________________________\n",
      "conv2d_28 (Conv2D)           (None, 6, 6, 64)          18496     \n",
      "_________________________________________________________________\n",
      "depthwise_conv2d_16 (Depthwi (None, 4, 4, 256)         2560      \n",
      "_________________________________________________________________\n",
      "max_pooling2d_38 (MaxPooling (None, 1, 1, 256)         0         \n",
      "_________________________________________________________________\n",
      "flatten_17 (Flatten)         (None, 256)               0         \n",
      "_________________________________________________________________\n",
      "dense_33 (Dense)             (None, 512)               131584    \n",
      "_________________________________________________________________\n",
      "dropout_16 (Dropout)         (None, 512)               0         \n",
      "_________________________________________________________________\n",
      "dense_34 (Dense)             (None, 10)                5130      \n",
      "=================================================================\n",
      "Total params: 158,090\n",
      "Trainable params: 158,090\n",
      "Non-trainable params: 0\n",
      "_________________________________________________________________\n"
     ]
    }
   ],
   "source": [
    "# Define model architecture\n",
    "model = keras.Sequential([\n",
    "    # layers.Lambda(standardize, input_shape = (28, 28, 1)),\n",
    "    layers.Conv2D(filters = 32, kernel_size = 3, activation = 'relu', input_shape = [28, 28, 1]),\n",
    "    layers.MaxPool2D(3),\n",
    "\n",
    "    # layers.Conv2D(filters = 32, kernel_size = 3, activation = 'relu'),\n",
    "\n",
    "    layers.Conv2D(filters = 64, kernel_size = 3, activation = 'relu'),\n",
    "\n",
    "    layers.DepthwiseConv2D(kernel_size = 3, depth_multiplier = 4, activation = 'relu'),\n",
    "    layers.MaxPool2D(3),\n",
    "\n",
    "    layers.Flatten(),\n",
    "    layers.Dense(128, activation = 'relu'),\n",
    "    layers.Dropout(.1),\n",
    "    layers.Dense(10, activation = 'softmax')\n",
    "])\n",
    "\n",
    "model.summary()\n",
    "\n",
    "# Compile model\n",
    "model.compile(\n",
    "    optimizer = 'adam',\n",
    "    loss = 'sparse_categorical_crossentropy',\n",
    "    metrics = ['accuracy']\n",
    ")"
   ]
  },
  {
   "cell_type": "code",
   "execution_count": 56,
   "metadata": {},
   "outputs": [
    {
     "name": "stdout",
     "output_type": "stream",
     "text": [
      "Epoch 1/10\n",
      "985/985 [==============================] - 9s 8ms/step - loss: 0.8679 - accuracy: 0.7186 - val_loss: 0.1572 - val_accuracy: 0.9516\n",
      "Epoch 2/10\n",
      "985/985 [==============================] - 8s 8ms/step - loss: 0.1592 - accuracy: 0.9518 - val_loss: 0.1126 - val_accuracy: 0.9654\n",
      "Epoch 3/10\n",
      "985/985 [==============================] - 8s 8ms/step - loss: 0.1061 - accuracy: 0.9660 - val_loss: 0.0826 - val_accuracy: 0.9744\n",
      "Epoch 4/10\n",
      "985/985 [==============================] - 7s 8ms/step - loss: 0.0797 - accuracy: 0.9754 - val_loss: 0.0827 - val_accuracy: 0.9743\n",
      "Epoch 5/10\n",
      "985/985 [==============================] - 7s 8ms/step - loss: 0.0669 - accuracy: 0.9788 - val_loss: 0.0691 - val_accuracy: 0.9791\n",
      "Epoch 6/10\n",
      "985/985 [==============================] - 8s 8ms/step - loss: 0.0605 - accuracy: 0.9795 - val_loss: 0.0624 - val_accuracy: 0.9806\n",
      "Epoch 7/10\n",
      "985/985 [==============================] - 7s 8ms/step - loss: 0.0469 - accuracy: 0.9849 - val_loss: 0.0704 - val_accuracy: 0.9785\n",
      "Epoch 8/10\n",
      "985/985 [==============================] - 7s 8ms/step - loss: 0.0399 - accuracy: 0.9874 - val_loss: 0.0720 - val_accuracy: 0.9788\n",
      "Epoch 9/10\n",
      "985/985 [==============================] - 8s 8ms/step - loss: 0.0375 - accuracy: 0.9892 - val_loss: 0.0789 - val_accuracy: 0.9776\n",
      "Epoch 10/10\n",
      "985/985 [==============================] - 8s 8ms/step - loss: 0.0309 - accuracy: 0.9896 - val_loss: 0.0636 - val_accuracy: 0.9814\n"
     ]
    }
   ],
   "source": [
    "# Define number of training epochs\n",
    "EPOCHS = 10\n",
    "\n",
    "# Train model with 75/25 training/validation split\n",
    "trained = model.fit(\n",
    "    X_train,\n",
    "    y_train,\n",
    "    epochs = EPOCHS,\n",
    "    validation_split = .25\n",
    ")"
   ]
  },
  {
   "cell_type": "code",
   "execution_count": 57,
   "metadata": {},
   "outputs": [
    {
     "data": {
      "image/png": "[encoded data removed]",
      "text/plain": [
       "<Figure size 640x480 with 1 Axes>"
      ]
     },
     "metadata": {},
     "output_type": "display_data"
    },
    {
     "data": {
      "text/plain": [
       "<ggplot: (8775591171476)>"
      ]
     },
     "execution_count": 57,
     "metadata": {},
     "output_type": "execute_result"
    }
   ],
   "source": [
    "# Plot training and validation accuracy\n",
    "(\n",
    "    ggplot() \n",
    "    + geom_line(aes(range(EPOCHS), trained.history['accuracy']))\n",
    "    + geom_line(aes(range(EPOCHS), trained.history['val_accuracy']), color = 'red')\n",
    "    + labs(title='Training and Validation (red) Accuracy', x='Epoch', y='Accuracy')\n",
    ")"
   ]
  },
  {
   "cell_type": "markdown",
   "metadata": {},
   "source": [
    "### Prediction"
   ]
  },
  {
   "cell_type": "code",
   "execution_count": 61,
   "metadata": {},
   "outputs": [
    {
     "name": "stdout",
     "output_type": "stream",
     "text": [
      "Epoch 1/5\n",
      "1313/1313 [==============================] - 10s 8ms/step - loss: 0.6730 - accuracy: 0.7807\n",
      "Epoch 2/5\n",
      "1313/1313 [==============================] - 10s 8ms/step - loss: 0.1025 - accuracy: 0.9674\n",
      "Epoch 3/5\n",
      "1313/1313 [==============================] - 10s 8ms/step - loss: 0.0724 - accuracy: 0.9766\n",
      "Epoch 4/5\n",
      "1313/1313 [==============================] - 10s 8ms/step - loss: 0.0563 - accuracy: 0.9815\n",
      "Epoch 5/5\n",
      "1313/1313 [==============================] - 10s 7ms/step - loss: 0.0480 - accuracy: 0.9852\n"
     ]
    }
   ],
   "source": [
    "# Choose 5 epochs to avoid overfitting\n",
    "EPOCHS = 5\n",
    "\n",
    "# Retrain model on full training set\n",
    "trained_full = model.fit(\n",
    "    X_train,\n",
    "    y_train,\n",
    "    epochs = EPOCHS,\n",
    "    validation_split = 0\n",
    ")"
   ]
  },
  {
   "cell_type": "code",
   "execution_count": 62,
   "metadata": {},
   "outputs": [],
   "source": [
    "# Generate competition preedictions based on test set\n",
    "pred = pd.DataFrame(model.predict(X_test)).idxmax(axis = 1)\n",
    "submission = pd.DataFrame({'ImageId': range(1, len(pred) + 1), 'Label': pred})\n",
    "submission.head()\n",
    "\n",
    "# Write submission results to local .csv file\n",
    "submission.to_csv('./Data/submission.csv', index=False)"
   ]
  }
 ],
 "metadata": {
  "interpreter": {
   "hash": "0bbb39c32dcb289b310faef5e76dd13d205edd33082c780ed56e1f88a3655d40"
  },
  "kernelspec": {
   "display_name": "Python 3.8.8 ('base')",
   "language": "python",
   "name": "python3"
  },
  "language_info": {
   "codemirror_mode": {
    "name": "ipython",
    "version": 3
   },
   "file_extension": ".py",
   "mimetype": "text/x-python",
   "name": "python",
   "nbconvert_exporter": "python",
   "pygments_lexer": "ipython3",
   "version": "3.8.8"
  },
  "orig_nbformat": 4
 },
 "nbformat": 4,
 "nbformat_minor": 2
}
